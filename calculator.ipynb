{
 "cells": [
  {
   "cell_type": "code",
   "execution_count": 1,
   "metadata": {},
   "outputs": [],
   "source": [
    "import numpy as np"
   ]
  },
  {
   "cell_type": "code",
   "execution_count": 83,
   "metadata": {},
   "outputs": [
    {
     "name": "stdout",
     "output_type": "stream",
     "text": [
      "[[52.]\n",
      " [50.]\n",
      " [50.]\n",
      " [52.]\n",
      " [50.]\n",
      " [50.]\n",
      " [50.]]\n"
     ]
    }
   ],
   "source": [
    "core_mat = np.array([[1, 0, 0, 0, 1, 0, 1],\n",
    "                     [1, 1, 0, 0, 0, 1, 0],\n",
    "                     [1, 1, 1, 0, 0, 0, 0],\n",
    "                     [0, 1, 1, 1, 0, 0, 0],\n",
    "                     [0, 0, 1, 1, 0, 0, 1],\n",
    "                     [0, 0, 0, 1, 1, 1, 0],\n",
    "                     [0, 0, 0, 0, 1, 1, 1]])\n",
    "rein_mat = np.array([[12, 13, 13, 14, 14, 13, 14]]).T\n",
    "add_mat = np.array([[4, 4, 4, 4, 3, 3, 3]]).T\n",
    "\n",
    "optimum = (np.dot(core_mat, rein_mat)\n",
    "           +np.dot(core_mat*add_mat, np.ones([7, 1])))\n",
    "\n",
    "print(optimum)"
   ]
  },
  {
   "cell_type": "code",
   "execution_count": null,
   "metadata": {},
   "outputs": [],
   "source": []
  }
 ],
 "metadata": {
  "kernelspec": {
   "display_name": "Python 3",
   "language": "python",
   "name": "python3"
  },
  "language_info": {
   "codemirror_mode": {
    "name": "ipython",
    "version": 3
   },
   "file_extension": ".py",
   "mimetype": "text/x-python",
   "name": "python",
   "nbconvert_exporter": "python",
   "pygments_lexer": "ipython3",
   "version": "3.6.5"
  }
 },
 "nbformat": 4,
 "nbformat_minor": 2
}
