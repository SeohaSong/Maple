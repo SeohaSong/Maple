{
 "cells": [
  {
   "cell_type": "code",
   "execution_count": 39,
   "metadata": {},
   "outputs": [
    {
     "name": "stdout",
     "output_type": "stream",
     "text": [
      "닼라 60\n",
      "닼제 60\n",
      "데스 60\n",
      "피블 60\n",
      "닼체 60\n",
      "배스 60\n",
      "배킹 60\n"
     ]
    }
   ],
   "source": [
    "import numpy as np\n",
    "\n",
    "mat = np.array([\n",
    "    [1, 0, 0, 0, 1, 0, 1],\n",
    "    [1, 1, 0, 0, 0, 1, 0],\n",
    "    [1, 1, 1, 0, 0, 0, 0],\n",
    "    [0, 1, 1, 1, 0, 0, 0],\n",
    "    [0, 0, 0, 0, 1, 1, 1],\n",
    "    [0, 0, 1, 1, 0, 0, 1],\n",
    "    [0, 0, 0, 1, 1, 1, 0],\n",
    "])\n",
    "\n",
    "lv = np.array([15, 15, 15, 15, 15, 15, 15])\n",
    "\n",
    "pt = np.array([5, 5, 5, 5, 5, 5, 5])\n",
    "\n",
    "names = '''\n",
    "    닼라\n",
    "    닼제\n",
    "    데스\n",
    "    피블\n",
    "    닼체\n",
    "    배스\n",
    "    배킹\n",
    "'''.split()\n",
    "scores = ((lv+pt)*mat).sum(axis=1)\n",
    "for idx, name in enumerate(names):\n",
    "    print(name, scores[idx])"
   ]
  },
  {
   "cell_type": "markdown",
   "metadata": {},
   "source": [
    "## 총 19개 (만랩기준)\n",
    "---\n",
    "- 에르다샤워\n",
    "- 홀리심볼\n",
    "---\n",
    "- 에르다 노바\n",
    "- 에테리얼 폼\n",
    "---\n",
    "- 4개 더 아무거나"
   ]
  },
  {
   "cell_type": "code",
   "execution_count": 52,
   "metadata": {},
   "outputs": [
    {
     "data": {
      "text/plain": [
       "15375"
      ]
     },
     "execution_count": 52,
     "metadata": {},
     "output_type": "execute_result"
    }
   ],
   "source": [
    "import datetime\n",
    "\n",
    "lv4_date = '20190523'\n",
    "lv5_date = '20190605'\n",
    "\n",
    "score = 0\n",
    "date = '20190524'\n",
    "end_date = \"20190619\"\n",
    "unit = datetime.timedelta(1)\n",
    "while date <= end_date:\n",
    "    if date >= lv4_date:\n",
    "        score += 300\n",
    "    if date >= lv5_date:\n",
    "        score += 350\n",
    "    score += 75\n",
    "    date_ = datetime.datetime.strptime(date, \"%Y%m%d\")+unit\n",
    "    date = date_.strftime(\"%Y%m%d\")\n",
    "score"
   ]
  },
  {
   "cell_type": "code",
   "execution_count": null,
   "metadata": {},
   "outputs": [],
   "source": []
  }
 ],
 "metadata": {
  "kernelspec": {
   "display_name": "Python 3",
   "language": "python",
   "name": "python3"
  },
  "language_info": {
   "codemirror_mode": {
    "name": "ipython",
    "version": 3
   },
   "file_extension": ".py",
   "mimetype": "text/x-python",
   "name": "python",
   "nbconvert_exporter": "python",
   "pygments_lexer": "ipython3",
   "version": "3.7.2"
  }
 },
 "nbformat": 4,
 "nbformat_minor": 2
}
